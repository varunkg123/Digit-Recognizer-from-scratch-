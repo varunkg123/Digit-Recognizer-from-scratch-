{
 "cells": [
  {
   "cell_type": "code",
   "execution_count": 1,
   "metadata": {},
   "outputs": [],
   "source": [
    "import numpy as np\n",
    "import pandas as pd\n",
    "from matplotlib import pyplot as plt"
   ]
  },
  {
   "cell_type": "code",
   "execution_count": 2,
   "metadata": {},
   "outputs": [],
   "source": [
    "data = pd.read_csv('F:/Microfocus/neural network from scratch/train.csv')"
   ]
  },
  {
   "cell_type": "code",
   "execution_count": 3,
   "metadata": {},
   "outputs": [],
   "source": [
    "data = np.array(data)\n",
    "m, n = data.shape\n",
    "np.random.shuffle(data) # shuffle before splitting into dev and training sets\n",
    "\n",
    "data_dev = data[0:1000].T\n",
    "Y_dev = data_dev[0]\n",
    "X_dev = data_dev[1:n]\n",
    "X_dev = X_dev / 255.\n",
    "\n",
    "data_train = data[1000:m].T\n",
    "Y_train = data_train[0]\n",
    "X_train = data_train[1:n]\n",
    "X_train = X_train / 255.\n",
    "_,m_train = X_train.shape"
   ]
  },
  {
   "cell_type": "code",
   "execution_count": 4,
   "metadata": {},
   "outputs": [
    {
     "data": {
      "text/plain": [
       "array([9, 7, 6, ..., 0, 9, 4], dtype=int64)"
      ]
     },
     "execution_count": 4,
     "metadata": {},
     "output_type": "execute_result"
    }
   ],
   "source": [
    "Y_train"
   ]
  },
  {
   "cell_type": "code",
   "execution_count": 5,
   "metadata": {},
   "outputs": [],
   "source": [
    "def init_params():\n",
    "    W1 = np.random.rand(10, 784) - 0.5\n",
    "    b1 = np.random.rand(10, 1) - 0.5\n",
    "    W2 = np.random.rand(10, 10) - 0.5\n",
    "    b2 = np.random.rand(10, 1) - 0.5\n",
    "    return W1, b1, W2, b2"
   ]
  },
  {
   "cell_type": "code",
   "execution_count": 6,
   "metadata": {},
   "outputs": [],
   "source": [
    "def ReLU(Z):\n",
    "    return np.maximum(Z, 0)\n"
   ]
  },
  {
   "cell_type": "code",
   "execution_count": 7,
   "metadata": {},
   "outputs": [],
   "source": [
    "def softmax(Z):\n",
    "    A = np.exp(Z) / sum(np.exp(Z))\n",
    "    return A"
   ]
  },
  {
   "cell_type": "code",
   "execution_count": 8,
   "metadata": {},
   "outputs": [],
   "source": [
    "def forward_prop(W1, b1, W2, b2, X):\n",
    "    Z1 = W1.dot(X) + b1\n",
    "    A1 = ReLU(Z1)\n",
    "    Z2 = W2.dot(A1) + b2\n",
    "    A2 = softmax(Z2)\n",
    "    return Z1, A1, Z2, A2"
   ]
  },
  {
   "cell_type": "code",
   "execution_count": 9,
   "metadata": {},
   "outputs": [],
   "source": [
    "def ReLU_deriv(Z):\n",
    "    return Z > 0\n"
   ]
  },
  {
   "cell_type": "code",
   "execution_count": 10,
   "metadata": {},
   "outputs": [],
   "source": [
    "def one_hot(Y):\n",
    "    one_hot_Y = np.zeros((Y.size, Y.max() + 1))\n",
    "    one_hot_Y[np.arange(Y.size), Y] = 1\n",
    "    one_hot_Y = one_hot_Y.T\n",
    "    return one_hot_Y\n"
   ]
  },
  {
   "cell_type": "code",
   "execution_count": 11,
   "metadata": {},
   "outputs": [],
   "source": [
    "def backward_prop(Z1, A1, Z2, A2, W1, W2, X, Y):\n",
    "    one_hot_Y = one_hot(Y)\n",
    "    dZ2 = A2 - one_hot_Y\n",
    "    dW2 = 1 / m * dZ2.dot(A1.T)\n",
    "    db2 = 1 / m * np.sum(dZ2)\n",
    "    dZ1 = W2.T.dot(dZ2) * ReLU_deriv(Z1)\n",
    "    dW1 = 1 / m * dZ1.dot(X.T)\n",
    "    db1 = 1 / m * np.sum(dZ1)\n",
    "    return dW1, db1, dW2, db2"
   ]
  },
  {
   "cell_type": "code",
   "execution_count": 12,
   "metadata": {},
   "outputs": [],
   "source": [
    "def update_params(W1, b1, W2, b2, dW1, db1, dW2, db2, alpha):\n",
    "    W1 = W1 - alpha * dW1\n",
    "    b1 = b1 - alpha * db1    \n",
    "    W2 = W2 - alpha * dW2  \n",
    "    b2 = b2 - alpha * db2    \n",
    "    return W1, b1, W2, b2"
   ]
  },
  {
   "cell_type": "code",
   "execution_count": 13,
   "metadata": {},
   "outputs": [],
   "source": [
    "def get_predictions(A2):\n",
    "    return np.argmax(A2, 0)\n",
    "\n",
    "def get_accuracy(predictions, Y):\n",
    "    print(predictions, Y)\n",
    "    return np.sum(predictions == Y) / Y.size\n",
    "\n",
    "def gradient_descent(X, Y, alpha, iterations):\n",
    "    W1, b1, W2, b2 = init_params()\n",
    "    for i in range(iterations):\n",
    "        Z1, A1, Z2, A2 = forward_prop(W1, b1, W2, b2, X)\n",
    "        dW1, db1, dW2, db2 = backward_prop(Z1, A1, Z2, A2, W1, W2, X, Y)\n",
    "        W1, b1, W2, b2 = update_params(W1, b1, W2, b2, dW1, db1, dW2, db2, alpha)\n",
    "        if i % 10 == 0:\n",
    "            print(\"Iteration: \", i)\n",
    "            predictions = get_predictions(A2)\n",
    "            print(get_accuracy(predictions, Y))\n",
    "    return W1, b1, W2, b2"
   ]
  },
  {
   "cell_type": "code",
   "execution_count": 14,
   "metadata": {},
   "outputs": [
    {
     "name": "stdout",
     "output_type": "stream",
     "text": [
      "Iteration:  0\n",
      "[9 2 9 ... 8 6 9] [9 7 6 ... 0 9 4]\n",
      "0.13007317073170732\n",
      "Iteration:  10\n",
      "[9 2 9 ... 8 6 9] [9 7 6 ... 0 9 4]\n",
      "0.21370731707317073\n",
      "Iteration:  20\n",
      "[7 2 9 ... 2 6 9] [9 7 6 ... 0 9 4]\n",
      "0.2794146341463415\n",
      "Iteration:  30\n",
      "[9 0 5 ... 2 6 9] [9 7 6 ... 0 9 4]\n",
      "0.3789268292682927\n",
      "Iteration:  40\n",
      "[9 0 5 ... 2 6 9] [9 7 6 ... 0 9 4]\n",
      "0.45\n",
      "Iteration:  50\n",
      "[9 8 5 ... 2 6 9] [9 7 6 ... 0 9 4]\n",
      "0.5025853658536585\n",
      "Iteration:  60\n",
      "[9 8 5 ... 2 6 9] [9 7 6 ... 0 9 4]\n",
      "0.5397804878048781\n",
      "Iteration:  70\n",
      "[9 8 5 ... 0 6 9] [9 7 6 ... 0 9 4]\n",
      "0.5710487804878048\n",
      "Iteration:  80\n",
      "[9 7 5 ... 0 6 4] [9 7 6 ... 0 9 4]\n",
      "0.5965121951219512\n",
      "Iteration:  90\n",
      "[9 7 5 ... 0 6 4] [9 7 6 ... 0 9 4]\n",
      "0.6194390243902439\n",
      "Iteration:  100\n",
      "[9 7 5 ... 0 6 4] [9 7 6 ... 0 9 4]\n",
      "0.6379268292682927\n",
      "Iteration:  110\n",
      "[9 7 5 ... 0 6 4] [9 7 6 ... 0 9 4]\n",
      "0.6541707317073171\n",
      "Iteration:  120\n",
      "[9 7 5 ... 0 6 4] [9 7 6 ... 0 9 4]\n",
      "0.6681707317073171\n",
      "Iteration:  130\n",
      "[9 7 5 ... 0 6 4] [9 7 6 ... 0 9 4]\n",
      "0.6806585365853659\n",
      "Iteration:  140\n",
      "[9 7 6 ... 0 6 4] [9 7 6 ... 0 9 4]\n",
      "0.6918780487804878\n",
      "Iteration:  150\n",
      "[9 7 6 ... 0 6 4] [9 7 6 ... 0 9 4]\n",
      "0.7016585365853658\n",
      "Iteration:  160\n",
      "[9 7 6 ... 0 6 4] [9 7 6 ... 0 9 4]\n",
      "0.710780487804878\n",
      "Iteration:  170\n",
      "[9 7 6 ... 0 6 4] [9 7 6 ... 0 9 4]\n",
      "0.7206585365853658\n",
      "Iteration:  180\n",
      "[9 7 6 ... 0 6 4] [9 7 6 ... 0 9 4]\n",
      "0.729\n",
      "Iteration:  190\n",
      "[9 7 6 ... 0 4 4] [9 7 6 ... 0 9 4]\n",
      "0.7361951219512195\n",
      "Iteration:  200\n",
      "[9 7 6 ... 0 4 4] [9 7 6 ... 0 9 4]\n",
      "0.7428048780487805\n",
      "Iteration:  210\n",
      "[9 7 6 ... 0 4 4] [9 7 6 ... 0 9 4]\n",
      "0.75\n",
      "Iteration:  220\n",
      "[9 7 6 ... 0 4 4] [9 7 6 ... 0 9 4]\n",
      "0.7558048780487805\n",
      "Iteration:  230\n",
      "[9 7 6 ... 0 4 4] [9 7 6 ... 0 9 4]\n",
      "0.7615853658536585\n",
      "Iteration:  240\n",
      "[9 7 6 ... 0 4 4] [9 7 6 ... 0 9 4]\n",
      "0.7667317073170732\n",
      "Iteration:  250\n",
      "[9 7 6 ... 0 9 4] [9 7 6 ... 0 9 4]\n",
      "0.772\n",
      "Iteration:  260\n",
      "[9 7 6 ... 0 9 4] [9 7 6 ... 0 9 4]\n",
      "0.7770487804878049\n",
      "Iteration:  270\n",
      "[9 7 5 ... 0 9 4] [9 7 6 ... 0 9 4]\n",
      "0.7813414634146342\n",
      "Iteration:  280\n",
      "[9 7 5 ... 0 9 4] [9 7 6 ... 0 9 4]\n",
      "0.7855853658536586\n",
      "Iteration:  290\n",
      "[9 7 5 ... 0 9 4] [9 7 6 ... 0 9 4]\n",
      "0.7895121951219513\n",
      "Iteration:  300\n",
      "[9 7 5 ... 0 9 4] [9 7 6 ... 0 9 4]\n",
      "0.7931707317073171\n",
      "Iteration:  310\n",
      "[9 7 5 ... 0 9 4] [9 7 6 ... 0 9 4]\n",
      "0.7962682926829269\n",
      "Iteration:  320\n",
      "[9 7 5 ... 0 9 4] [9 7 6 ... 0 9 4]\n",
      "0.799609756097561\n",
      "Iteration:  330\n",
      "[9 7 5 ... 0 9 4] [9 7 6 ... 0 9 4]\n",
      "0.8028048780487805\n",
      "Iteration:  340\n",
      "[9 7 5 ... 0 9 4] [9 7 6 ... 0 9 4]\n",
      "0.8060731707317074\n",
      "Iteration:  350\n",
      "[9 7 5 ... 0 9 4] [9 7 6 ... 0 9 4]\n",
      "0.8099756097560976\n",
      "Iteration:  360\n",
      "[9 7 5 ... 0 9 4] [9 7 6 ... 0 9 4]\n",
      "0.8125365853658536\n",
      "Iteration:  370\n",
      "[9 7 5 ... 0 9 4] [9 7 6 ... 0 9 4]\n",
      "0.8153658536585365\n",
      "Iteration:  380\n",
      "[9 7 5 ... 0 9 4] [9 7 6 ... 0 9 4]\n",
      "0.8183170731707317\n",
      "Iteration:  390\n",
      "[9 7 6 ... 0 9 4] [9 7 6 ... 0 9 4]\n",
      "0.8212195121951219\n",
      "Iteration:  400\n",
      "[9 7 6 ... 0 9 4] [9 7 6 ... 0 9 4]\n",
      "0.8240243902439024\n",
      "Iteration:  410\n",
      "[9 7 6 ... 0 9 4] [9 7 6 ... 0 9 4]\n",
      "0.8262926829268292\n",
      "Iteration:  420\n",
      "[9 7 6 ... 0 9 4] [9 7 6 ... 0 9 4]\n",
      "0.8279268292682926\n",
      "Iteration:  430\n",
      "[9 7 6 ... 0 9 4] [9 7 6 ... 0 9 4]\n",
      "0.8298536585365853\n",
      "Iteration:  440\n",
      "[9 7 6 ... 0 9 4] [9 7 6 ... 0 9 4]\n",
      "0.8324146341463414\n",
      "Iteration:  450\n",
      "[9 7 6 ... 0 9 4] [9 7 6 ... 0 9 4]\n",
      "0.8337073170731707\n",
      "Iteration:  460\n",
      "[9 7 6 ... 0 9 4] [9 7 6 ... 0 9 4]\n",
      "0.8353170731707317\n",
      "Iteration:  470\n",
      "[9 7 6 ... 0 9 4] [9 7 6 ... 0 9 4]\n",
      "0.837\n",
      "Iteration:  480\n",
      "[9 7 6 ... 0 9 4] [9 7 6 ... 0 9 4]\n",
      "0.8385853658536585\n",
      "Iteration:  490\n",
      "[9 7 6 ... 0 9 4] [9 7 6 ... 0 9 4]\n",
      "0.840609756097561\n"
     ]
    }
   ],
   "source": [
    "W1, b1, W2, b2 = gradient_descent(X_train, Y_train, 0.10, 500)"
   ]
  },
  {
   "cell_type": "code",
   "execution_count": 15,
   "metadata": {},
   "outputs": [],
   "source": [
    "def make_predictions(X, W1, b1, W2, b2):\n",
    "    _, _, _, A2 = forward_prop(W1, b1, W2, b2, X)\n",
    "    predictions = get_predictions(A2)\n",
    "    return predictions\n",
    "\n",
    "def test_prediction(index, W1, b1, W2, b2):\n",
    "    current_image = X_train[:, index, None]\n",
    "    prediction = make_predictions(X_train[:, index, None], W1, b1, W2, b2)\n",
    "    label = Y_train[index]\n",
    "    print(\"Prediction: \", prediction)\n",
    "    print(\"Label: \", label)\n",
    "    \n",
    "    current_image = current_image.reshape((28, 28)) * 255\n",
    "    plt.gray()\n",
    "    plt.imshow(current_image, interpolation='nearest')\n",
    "    plt.show()"
   ]
  },
  {
   "cell_type": "code",
   "execution_count": 16,
   "metadata": {},
   "outputs": [
    {
     "name": "stdout",
     "output_type": "stream",
     "text": [
      "Prediction:  [9]\n",
      "Label:  9\n"
     ]
    },
    {
     "data": {
      "image/png": "[encoded data removed]",
      "text/plain": [
       "<Figure size 432x288 with 1 Axes>"
      ]
     },
     "metadata": {
      "needs_background": "light"
     },
     "output_type": "display_data"
    },
    {
     "name": "stdout",
     "output_type": "stream",
     "text": [
      "Prediction:  [7]\n",
      "Label:  7\n"
     ]
    },
    {
     "data": {
      "image/png": "[encoded data removed]",
      "text/plain": [
       "<Figure size 432x288 with 1 Axes>"
      ]
     },
     "metadata": {
      "needs_background": "light"
     },
     "output_type": "display_data"
    },
    {
     "name": "stdout",
     "output_type": "stream",
     "text": [
      "Prediction:  [6]\n",
      "Label:  6\n"
     ]
    },
    {
     "data": {
      "image/png": "[encoded data removed]",
      "text/plain": [
       "<Figure size 432x288 with 1 Axes>"
      ]
     },
     "metadata": {
      "needs_background": "light"
     },
     "output_type": "display_data"
    },
    {
     "name": "stdout",
     "output_type": "stream",
     "text": [
      "Prediction:  [3]\n",
      "Label:  3\n"
     ]
    },
    {
     "data": {
      "image/png": "[encoded data removed]",
      "text/plain": [
       "<Figure size 432x288 with 1 Axes>"
      ]
     },
     "metadata": {
      "needs_background": "light"
     },
     "output_type": "display_data"
    }
   ],
   "source": [
    "test_prediction(0, W1, b1, W2, b2)\n",
    "test_prediction(1, W1, b1, W2, b2)\n",
    "test_prediction(2, W1, b1, W2, b2)\n",
    "test_prediction(3, W1, b1, W2, b2)"
   ]
  },
  {
   "cell_type": "code",
   "execution_count": 17,
   "metadata": {},
   "outputs": [
    {
     "name": "stdout",
     "output_type": "stream",
     "text": [
      "[3 5 8 3 8 1 8 9 6 1 2 4 0 9 3 4 7 8 2 0 9 7 4 2 0 3 1 2 3 6 3 1 4 6 4 9 9\n",
      " 6 4 3 3 8 4 8 3 8 5 8 5 8 8 2 8 3 6 3 3 3 7 7 7 1 7 2 8 1 3 9 8 1 2 9 8 3\n",
      " 3 7 8 1 9 9 1 9 9 9 1 0 6 0 3 5 6 5 9 8 0 4 4 1 0 6 2 6 7 1 3 1 7 6 6 9 1\n",
      " 2 4 6 7 4 9 9 9 0 3 0 9 4 4 5 7 2 5 6 6 1 1 3 9 0 7 5 9 6 3 4 2 7 5 9 3 5\n",
      " 9 8 9 3 3 9 7 6 3 8 5 2 9 3 7 3 6 0 1 3 2 3 7 4 5 8 3 3 6 4 8 9 3 5 9 8 4\n",
      " 1 0 7 8 3 1 4 4 1 9 6 5 5 6 1 1 6 8 1 0 0 2 8 1 7 9 0 0 9 2 4 7 3 0 3 8 8\n",
      " 7 3 1 9 9 4 2 1 4 1 0 6 1 6 4 0 6 4 1 1 7 6 6 3 7 9 4 7 5 0 6 4 7 9 3 9 4\n",
      " 1 9 8 7 3 5 0 6 5 2 9 1 1 1 2 0 6 0 1 3 1 3 2 1 0 1 6 7 0 6 6 2 9 6 9 8 5\n",
      " 4 0 9 9 9 7 9 3 1 0 5 2 1 9 8 8 9 1 3 3 2 4 9 6 0 7 5 1 6 8 8 9 8 3 3 3 3\n",
      " 8 4 2 2 7 9 2 9 2 1 6 5 1 3 8 6 2 5 7 7 0 2 1 7 3 7 1 9 5 1 9 1 0 0 9 5 8\n",
      " 2 3 8 8 2 6 5 8 4 8 3 2 2 4 4 8 9 6 0 7 7 8 4 0 4 9 6 6 5 3 1 6 2 7 7 3 7\n",
      " 1 9 6 4 9 9 5 2 9 2 8 0 5 7 1 9 0 6 4 3 5 8 2 2 0 3 0 9 6 7 0 1 7 0 1 2 8\n",
      " 9 7 3 7 6 6 4 5 4 9 7 2 2 1 5 7 1 1 2 9 6 3 4 5 3 9 2 8 7 1 9 9 2 4 8 4 2\n",
      " 1 1 7 1 1 8 4 6 6 3 2 4 1 0 3 1 4 3 9 0 3 4 5 8 2 1 2 1 5 1 9 5 3 7 2 9 7\n",
      " 5 6 5 0 8 9 0 9 5 2 5 1 5 7 9 0 9 7 0 4 3 2 1 8 8 2 8 0 9 0 0 2 8 2 7 2 7\n",
      " 7 1 1 9 5 1 1 1 9 7 7 5 8 5 4 3 8 5 8 3 0 4 6 0 8 1 2 7 5 9 6 3 1 1 8 9 7\n",
      " 7 3 9 5 7 0 4 2 4 5 3 2 3 7 6 6 7 5 6 0 5 5 4 0 8 4 0 9 5 8 4 9 8 5 1 8 5\n",
      " 7 6 6 6 1 5 1 0 2 8 4 9 1 0 3 0 4 4 6 2 0 0 7 8 3 5 0 9 3 4 8 6 6 7 1 6 0\n",
      " 4 9 0 0 0 0 0 3 7 8 2 3 6 5 7 2 2 3 6 4 6 3 9 1 1 8 4 9 8 5 5 9 1 1 7 9 8\n",
      " 0 7 7 3 5 6 7 1 8 6 4 7 6 4 9 4 8 1 9 0 3 1 1 0 7 3 5 0 7 3 3 4 6 6 2 4 1\n",
      " 7 1 2 1 4 3 6 9 8 6 2 3 0 9 7 0 3 7 2 4 0 0 9 7 0 8 1 1 9 0 3 7 2 0 1 1 6\n",
      " 1 9 4 7 5 5 1 5 9 4 2 7 8 7 1 0 3 7 4 8 3 9 3 5 0 0 7 2 7 1 5 4 8 8 7 3 1\n",
      " 1 9 0 4 9 4 9 3 0 4 1 5 9 5 7 2 9 3 4 1 3 9 1 9 6 6 5 9 9 5 4 1 9 9 0 9 4\n",
      " 1 3 4 7 3 6 0 9 1 9 0 1 0 4 3 8 4 6 5 8 0 1 2 4 1 5 3 7 0 0 2 3 0 3 0 2 6\n",
      " 4 8 5 8 5 1 6 5 4 6 0 3 4 0 5 6 0 9 0 6 9 0 8 6 3 7 4 8 3 2 5 6 4 0 3 3 6\n",
      " 3 7 7 8 5 6 5 1 9 8 4 2 4 0 1 6 1 1 0 0 6 5 3 2 1 9 9 2 0 7 8 0 2 6 4 4 6\n",
      " 1 1 0 2 2 5 5 8 7 7 3 1 4 9 2 1 7 7 0 1 8 1 3 5 7 4 5 6 4 4 4 6 2 5 1 3 4\n",
      " 4] [3 5 2 3 8 1 5 9 6 1 8 4 2 9 3 4 7 8 2 3 7 7 4 2 0 3 8 2 3 6 3 1 4 2 4 3 9\n",
      " 6 4 3 3 8 4 3 3 8 5 8 5 8 8 2 8 3 6 3 3 3 7 5 7 1 7 2 5 1 3 9 8 1 2 9 8 3\n",
      " 3 7 8 1 9 9 1 9 9 9 1 0 5 7 3 5 6 5 9 8 0 4 9 1 0 6 2 6 9 1 3 1 7 0 6 9 1\n",
      " 2 4 6 7 4 9 9 9 0 7 0 9 4 4 5 7 2 5 6 6 7 1 3 9 0 7 5 3 5 3 4 2 7 5 9 3 2\n",
      " 9 8 9 3 3 9 7 6 3 8 5 2 5 5 7 3 6 2 1 3 6 3 7 4 5 8 3 3 6 4 8 9 3 5 8 8 4\n",
      " 1 0 7 5 3 8 4 4 1 9 6 5 8 6 1 1 6 8 1 0 0 2 8 1 7 9 0 0 9 2 4 7 3 0 3 8 8\n",
      " 7 3 1 9 9 4 2 1 4 3 0 6 1 6 4 0 6 4 2 1 7 2 6 5 7 9 4 7 5 0 2 4 7 7 3 9 4\n",
      " 7 9 9 7 5 5 0 6 9 3 8 9 1 1 2 0 6 0 1 5 1 3 6 1 0 1 6 7 0 6 6 2 8 6 9 8 5\n",
      " 4 0 9 9 7 7 7 3 1 0 5 2 1 9 8 8 9 1 3 3 2 4 9 6 0 9 0 1 6 8 8 9 8 3 3 3 3\n",
      " 3 4 2 2 7 9 3 9 2 1 6 5 1 3 8 6 2 5 7 7 0 2 8 7 3 7 1 9 6 1 9 1 0 0 9 5 2\n",
      " 2 3 8 8 2 6 5 8 2 8 3 3 2 4 7 8 9 6 0 7 7 8 4 0 4 7 6 2 5 3 1 6 2 7 7 3 7\n",
      " 1 9 4 6 8 9 5 2 9 2 8 0 5 7 1 4 0 6 9 3 5 8 2 2 0 3 0 4 6 7 2 1 7 0 1 2 8\n",
      " 9 7 3 7 6 6 2 5 4 9 5 2 2 1 4 7 1 1 6 9 6 5 4 5 5 7 2 8 7 1 9 5 2 4 8 7 2\n",
      " 1 1 7 1 1 8 4 6 6 5 2 6 1 0 5 1 4 3 9 0 3 4 5 8 2 1 2 1 5 1 7 5 3 7 2 9 7\n",
      " 5 6 5 0 3 7 0 9 0 2 5 1 1 7 9 0 9 7 0 4 5 2 1 8 8 3 8 0 9 0 0 2 8 2 7 2 9\n",
      " 7 1 1 9 5 1 4 1 4 2 7 5 8 5 4 3 8 5 8 3 0 4 6 0 9 1 2 9 5 9 6 3 1 1 8 9 7\n",
      " 7 3 9 5 7 0 4 2 4 3 3 2 3 7 6 6 7 5 9 0 5 5 4 0 9 4 0 9 5 8 4 9 8 5 1 8 5\n",
      " 9 6 6 6 1 5 1 0 2 8 9 9 1 0 3 0 9 4 6 2 0 0 7 4 5 5 0 9 9 4 8 6 6 7 1 6 0\n",
      " 9 9 9 2 0 0 2 3 7 8 8 8 6 5 7 2 2 3 6 9 6 8 9 1 1 5 4 9 8 6 5 9 1 1 7 9 9\n",
      " 0 7 7 3 5 6 7 1 8 6 4 2 6 4 9 4 8 1 9 0 3 1 1 0 7 3 5 7 7 3 3 4 6 6 2 4 1\n",
      " 7 1 2 1 4 3 6 9 3 6 2 3 0 9 7 0 3 7 8 4 0 0 9 7 0 8 1 1 9 0 3 7 8 0 1 1 6\n",
      " 1 9 4 7 3 5 1 8 9 2 2 7 8 7 1 0 3 7 5 8 3 9 5 5 0 0 7 2 7 1 8 4 8 8 7 3 1\n",
      " 1 9 5 9 9 4 9 3 0 4 1 5 9 5 7 2 9 3 4 1 3 9 1 9 6 6 5 9 9 5 4 1 4 7 0 2 4\n",
      " 1 3 8 7 5 0 0 9 1 5 0 1 0 4 3 2 4 6 3 8 0 1 2 2 1 5 3 7 2 0 2 9 0 3 0 2 2\n",
      " 4 8 5 5 3 1 6 5 4 6 0 3 4 0 5 6 0 9 0 6 9 2 8 4 5 7 4 8 3 2 8 6 4 0 3 8 2\n",
      " 3 7 7 8 8 6 5 1 4 8 4 2 4 0 1 6 1 1 5 0 6 5 3 2 1 9 9 2 0 2 8 0 2 6 4 4 6\n",
      " 1 1 0 2 2 5 6 5 7 7 5 1 4 8 2 1 7 7 0 1 8 1 4 3 7 4 5 6 4 4 4 6 2 5 1 3 4\n",
      " 4]\n"
     ]
    },
    {
     "data": {
      "text/plain": [
       "0.844"
      ]
     },
     "execution_count": 17,
     "metadata": {},
     "output_type": "execute_result"
    }
   ],
   "source": [
    "dev_predictions = make_predictions(X_dev, W1, b1, W2, b2)\n",
    "get_accuracy(dev_predictions, Y_dev)\n"
   ]
  },
  {
   "cell_type": "code",
   "execution_count": 18,
   "metadata": {},
   "outputs": [],
   "source": [
    "#Finally I have got a accuracy of 84.4%"
   ]
  },
  {
   "cell_type": "code",
   "execution_count": null,
   "metadata": {},
   "outputs": [],
   "source": []
  }
 ],
 "metadata": {
  "kernelspec": {
   "display_name": "Python 3",
   "language": "python",
   "name": "python3"
  },
  "language_info": {
   "codemirror_mode": {
    "name": "ipython",
    "version": 3
   },
   "file_extension": ".py",
   "mimetype": "text/x-python",
   "name": "python",
   "nbconvert_exporter": "python",
   "pygments_lexer": "ipython3",
   "version": "3.8.5"
  }
 },
 "nbformat": 4,
 "nbformat_minor": 4
}
